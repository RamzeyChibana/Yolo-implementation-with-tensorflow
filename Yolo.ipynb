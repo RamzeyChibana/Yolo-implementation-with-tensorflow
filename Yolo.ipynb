{
 "cells": [
  {
   "cell_type": "code",
   "execution_count": 1,
   "metadata": {},
   "outputs": [],
   "source": [
    "import tensorflow as tf\n",
    "from tensorflow import keras \n",
    "from keras import layers,optimizers\n",
    "import numpy as np\n",
    "import matplotlib.pyplot as plt\n",
    "import pandas as pd\n",
    "from sklearn.model_selection import train_test_split\n",
    "from sklearn.metrics import accuracy_score,f1_score,confusion_matrix\n",
    "from keras.applications import MobileNetV2,ResNet50\n",
    "import os\n",
    "\n",
    "gpus = tf.config.experimental.list_physical_devices('GPU')\n",
    "for gpu in gpus :\n",
    "    tf.config.experimental.set_memory_growth(gpu, True)"
   ]
  },
  {
   "cell_type": "code",
   "execution_count": 2,
   "metadata": {},
   "outputs": [],
   "source": [
    "BACH_SIZE=4\n",
    "N_EPOCHS=500\n",
    "LR=1e-4\n",
    "PATH=\"D:\\\\df\\\\ai\\\\obd\\\\hand sign dataset\"\n",
    "columns=[\"path\",\"width\",\"height\",\"label\",\"xmin\",\"ymin\",\"xmax\",\"ymax\"]\n",
    "LABELS=['A', 'B', 'C', 'D', 'E', 'F', 'G', 'H', 'I', 'J', 'K', 'L', 'M', 'N', 'O', 'P', 'Q', 'R', 'S', 'T', 'U', 'V', 'W', 'X', 'Y', 'Z']\n",
    "IMAGE_WIDTH=256\n",
    "IMAGE_HEIGHT=256\n",
    "N_CLASSES=len(LABELS)\n",
    "CSV_PATH=\"history.csv\"\n",
    "MODEL_SAVE=\"D:\\\\df\\\\ai\\\\models\\\\asl_obj\"\n",
    "S=7"
   ]
  },
  {
   "cell_type": "code",
   "execution_count": 3,
   "metadata": {},
   "outputs": [
    {
     "name": "stdout",
     "output_type": "stream",
     "text": [
      "train     : 1511\n",
      "validatin : 36\n",
      "test      : 35\n"
     ]
    }
   ],
   "source": [
    "#load data paths\n",
    "def load_data(path,classes,train=True):\n",
    "    images=[]\n",
    "    bboxes=[]\n",
    "    labels=[]\n",
    "    \n",
    "\n",
    "    if train :\n",
    "        df=pd.read_csv(os.path.join(path,\"train_labels.csv\"),names=columns,header=1)\n",
    "    else :\n",
    "        df=pd.read_csv(os.path.join(path,\"test_labels.csv\"),names=columns,header=1)\n",
    "\n",
    "    for _ , row in df.iterrows():\n",
    "        label=row[\"label\"]\n",
    "        image=os.path.join(path,\"images\",row[\"path\"])\n",
    "        \n",
    "        images.append(image)\n",
    "        bboxes.append([int(row[\"xmin\"]),int(row[\"ymin\"]),int(row[\"xmax\"]),int(row[\"ymax\"])])\n",
    "        labels.append(LABELS.index(label))\n",
    "\n",
    "    return images,bboxes,labels\n",
    "\n",
    "#split_dataset\n",
    "def load_dataset(path,classes):\n",
    "    train_images,train_bboxes,train_labels=load_data(path,classes)\n",
    "    images,bboxes,labels=load_data(path,classes,False)\n",
    "\n",
    "    test_images,val_images=train_test_split(images,test_size=0.5,random_state=18,shuffle=True)\n",
    "    test_bboxes,val_bboxes=train_test_split(bboxes,test_size=0.5,random_state=18,shuffle=True)\n",
    "    test_labels,val_labels=train_test_split(labels,test_size=0.5,random_state=18,shuffle=True)\n",
    "\n",
    "\n",
    "    return (train_images,train_bboxes,train_labels),(val_images,val_bboxes,val_labels),(test_images,test_bboxes,test_labels)\n",
    "\n",
    "#load images as numpy data\n",
    "def read_images(image_path,bbox,label):\n",
    "    image=tf.io.read_file(image_path)\n",
    "    image=tf.io.decode_jpeg(image)\n",
    "    height,width,channels=image.shape\n",
    "    image=tf.image.resize(image,(IMAGE_HEIGHT,IMAGE_WIDTH),tf.image.ResizeMethod.NEAREST_NEIGHBOR)\n",
    "    if channels==1:\n",
    "        image=tf.image.grayscale_to_rgb(image)\n",
    "    image=np.array(image,dtype=np.float32)\n",
    "    image=2*(image/255)-1\n",
    "    \n",
    "    target=np.zeros((S,S,5+N_CLASSES),dtype=np.float32)\n",
    "    \n",
    "    # bbox preprocess\n",
    "    xmin,ymin,xmax,ymax=bbox\n",
    "    xmin=xmin/width\n",
    "    xmax=xmax/width\n",
    "    ymin=ymin/height\n",
    "    ymax=ymax/height\n",
    "\n",
    "    x_center=(xmax+xmin)/2\n",
    "    y_center=(xmax+xmin)/2\n",
    "\n",
    "    box_height=xmax-xmin\n",
    "    box_width=ymax-ymin\n",
    "\n",
    "    #determin wich cell bbox is\n",
    "\n",
    "    i,j=int(y_center*S),int(x_center*S)\n",
    "\n",
    "\n",
    "    target[i,j,:4]=[x_center,y_center,box_width,box_height]\n",
    "    target[i,j,4]=1\n",
    "    target[i,j,5+label]=1\n",
    "\n",
    "    \n",
    "    \n",
    "    \n",
    "\n",
    "    return image,target\n",
    "\n",
    "#load dataset as tensors\n",
    "def load_tensors(images,bboxes,labels):\n",
    "    images,labels=tf.numpy_function(read_images,[images,bboxes,labels],[tf.float32,tf.float32])\n",
    "    return images,labels\n",
    "\n",
    "def tfData(images,bbox,labels,test=False):\n",
    "    ds=tf.data.Dataset.from_tensor_slices((images,bbox,labels))\n",
    "    ds=ds.map(load_tensors,num_parallel_calls=tf.data.AUTOTUNE)\n",
    "    ds=ds.cache()\n",
    "    if not test:\n",
    "        ds=ds.batch(BACH_SIZE)\n",
    "    ds=ds.prefetch(tf.data.AUTOTUNE)\n",
    "    return ds\n",
    "\n",
    "\n",
    "(train_images,train_bboxes,train_labels),(val_images,val_bboxes,val_labels),(test_images,test_bboxes,test_labels)=load_dataset(PATH,LABELS)\n",
    "\n",
    "ds_train=tfData(train_images,train_bboxes,train_labels)\n",
    "ds_val=tfData(val_images,val_bboxes,val_labels)\n",
    "print(f\"train     : {len(train_images)}\")\n",
    "print(f\"validatin : {len(val_images)}\")\n",
    "print(f\"test      : {len(test_images)}\")"
   ]
  },
  {
   "cell_type": "code",
   "execution_count": 4,
   "metadata": {},
   "outputs": [
    {
     "name": "stdout",
     "output_type": "stream",
     "text": [
      "(4, 256, 256, 3)\n",
      "(4, 256, 256, 3)\n",
      "(4, 256, 256, 3)\n"
     ]
    }
   ],
   "source": [
    "ds=ds_train.take(3)\n",
    "for i,l in ds:\n",
    "    print(i.shape)"
   ]
  },
  {
   "cell_type": "code",
   "execution_count": 5,
   "metadata": {},
   "outputs": [
    {
     "name": "stdout",
     "output_type": "stream",
     "text": [
      "WARNING:tensorflow:`input_shape` is undefined or non-square, or `rows` is not in [96, 128, 160, 192, 224]. Weights for input shape (224, 224) will be loaded as the default.\n",
      "Model: \"model\"\n",
      "__________________________________________________________________________________________________\n",
      " Layer (type)                   Output Shape         Param #     Connected to                     \n",
      "==================================================================================================\n",
      " input_1 (InputLayer)           [(None, 256, 256, 3  0           []                               \n",
      "                                )]                                                                \n",
      "                                                                                                  \n",
      " Conv1 (Conv2D)                 (None, 128, 128, 32  864         ['input_1[0][0]']                \n",
      "                                )                                                                 \n",
      "                                                                                                  \n",
      " bn_Conv1 (BatchNormalization)  (None, 128, 128, 32  128         ['Conv1[0][0]']                  \n",
      "                                )                                                                 \n",
      "                                                                                                  \n",
      " Conv1_relu (ReLU)              (None, 128, 128, 32  0           ['bn_Conv1[0][0]']               \n",
      "                                )                                                                 \n",
      "                                                                                                  \n",
      " expanded_conv_depthwise (Depth  (None, 128, 128, 32  288        ['Conv1_relu[0][0]']             \n",
      " wiseConv2D)                    )                                                                 \n",
      "                                                                                                  \n",
      " expanded_conv_depthwise_BN (Ba  (None, 128, 128, 32  128        ['expanded_conv_depthwise[0][0]']\n",
      " tchNormalization)              )                                                                 \n",
      "                                                                                                  \n",
      " expanded_conv_depthwise_relu (  (None, 128, 128, 32  0          ['expanded_conv_depthwise_BN[0][0\n",
      " ReLU)                          )                                ]']                              \n",
      "                                                                                                  \n",
      " expanded_conv_project (Conv2D)  (None, 128, 128, 16  512        ['expanded_conv_depthwise_relu[0]\n",
      "                                )                                [0]']                            \n",
      "                                                                                                  \n",
      " expanded_conv_project_BN (Batc  (None, 128, 128, 16  64         ['expanded_conv_project[0][0]']  \n",
      " hNormalization)                )                                                                 \n",
      "                                                                                                  \n",
      " block_1_expand (Conv2D)        (None, 128, 128, 96  1536        ['expanded_conv_project_BN[0][0]'\n",
      "                                )                                ]                                \n",
      "                                                                                                  \n",
      " block_1_expand_BN (BatchNormal  (None, 128, 128, 96  384        ['block_1_expand[0][0]']         \n",
      " ization)                       )                                                                 \n",
      "                                                                                                  \n",
      " block_1_expand_relu (ReLU)     (None, 128, 128, 96  0           ['block_1_expand_BN[0][0]']      \n",
      "                                )                                                                 \n",
      "                                                                                                  \n",
      " block_1_pad (ZeroPadding2D)    (None, 129, 129, 96  0           ['block_1_expand_relu[0][0]']    \n",
      "                                )                                                                 \n",
      "                                                                                                  \n",
      " block_1_depthwise (DepthwiseCo  (None, 64, 64, 96)  864         ['block_1_pad[0][0]']            \n",
      " nv2D)                                                                                            \n",
      "                                                                                                  \n",
      " block_1_depthwise_BN (BatchNor  (None, 64, 64, 96)  384         ['block_1_depthwise[0][0]']      \n",
      " malization)                                                                                      \n",
      "                                                                                                  \n",
      " block_1_depthwise_relu (ReLU)  (None, 64, 64, 96)   0           ['block_1_depthwise_BN[0][0]']   \n",
      "                                                                                                  \n",
      " block_1_project (Conv2D)       (None, 64, 64, 24)   2304        ['block_1_depthwise_relu[0][0]'] \n",
      "                                                                                                  \n",
      " block_1_project_BN (BatchNorma  (None, 64, 64, 24)  96          ['block_1_project[0][0]']        \n",
      " lization)                                                                                        \n",
      "                                                                                                  \n",
      " block_2_expand (Conv2D)        (None, 64, 64, 144)  3456        ['block_1_project_BN[0][0]']     \n",
      "                                                                                                  \n",
      " block_2_expand_BN (BatchNormal  (None, 64, 64, 144)  576        ['block_2_expand[0][0]']         \n",
      " ization)                                                                                         \n",
      "                                                                                                  \n",
      " block_2_expand_relu (ReLU)     (None, 64, 64, 144)  0           ['block_2_expand_BN[0][0]']      \n",
      "                                                                                                  \n",
      " block_2_depthwise (DepthwiseCo  (None, 64, 64, 144)  1296       ['block_2_expand_relu[0][0]']    \n",
      " nv2D)                                                                                            \n",
      "                                                                                                  \n",
      " block_2_depthwise_BN (BatchNor  (None, 64, 64, 144)  576        ['block_2_depthwise[0][0]']      \n",
      " malization)                                                                                      \n",
      "                                                                                                  \n",
      " block_2_depthwise_relu (ReLU)  (None, 64, 64, 144)  0           ['block_2_depthwise_BN[0][0]']   \n",
      "                                                                                                  \n",
      " block_2_project (Conv2D)       (None, 64, 64, 24)   3456        ['block_2_depthwise_relu[0][0]'] \n",
      "                                                                                                  \n",
      " block_2_project_BN (BatchNorma  (None, 64, 64, 24)  96          ['block_2_project[0][0]']        \n",
      " lization)                                                                                        \n",
      "                                                                                                  \n",
      " block_2_add (Add)              (None, 64, 64, 24)   0           ['block_1_project_BN[0][0]',     \n",
      "                                                                  'block_2_project_BN[0][0]']     \n",
      "                                                                                                  \n",
      " block_3_expand (Conv2D)        (None, 64, 64, 144)  3456        ['block_2_add[0][0]']            \n",
      "                                                                                                  \n",
      " block_3_expand_BN (BatchNormal  (None, 64, 64, 144)  576        ['block_3_expand[0][0]']         \n",
      " ization)                                                                                         \n",
      "                                                                                                  \n",
      " block_3_expand_relu (ReLU)     (None, 64, 64, 144)  0           ['block_3_expand_BN[0][0]']      \n",
      "                                                                                                  \n",
      " block_3_pad (ZeroPadding2D)    (None, 65, 65, 144)  0           ['block_3_expand_relu[0][0]']    \n",
      "                                                                                                  \n",
      " block_3_depthwise (DepthwiseCo  (None, 32, 32, 144)  1296       ['block_3_pad[0][0]']            \n",
      " nv2D)                                                                                            \n",
      "                                                                                                  \n",
      " block_3_depthwise_BN (BatchNor  (None, 32, 32, 144)  576        ['block_3_depthwise[0][0]']      \n",
      " malization)                                                                                      \n",
      "                                                                                                  \n",
      " block_3_depthwise_relu (ReLU)  (None, 32, 32, 144)  0           ['block_3_depthwise_BN[0][0]']   \n",
      "                                                                                                  \n",
      " block_3_project (Conv2D)       (None, 32, 32, 32)   4608        ['block_3_depthwise_relu[0][0]'] \n",
      "                                                                                                  \n",
      " block_3_project_BN (BatchNorma  (None, 32, 32, 32)  128         ['block_3_project[0][0]']        \n",
      " lization)                                                                                        \n",
      "                                                                                                  \n",
      " block_4_expand (Conv2D)        (None, 32, 32, 192)  6144        ['block_3_project_BN[0][0]']     \n",
      "                                                                                                  \n",
      " block_4_expand_BN (BatchNormal  (None, 32, 32, 192)  768        ['block_4_expand[0][0]']         \n",
      " ization)                                                                                         \n",
      "                                                                                                  \n",
      " block_4_expand_relu (ReLU)     (None, 32, 32, 192)  0           ['block_4_expand_BN[0][0]']      \n",
      "                                                                                                  \n",
      " block_4_depthwise (DepthwiseCo  (None, 32, 32, 192)  1728       ['block_4_expand_relu[0][0]']    \n",
      " nv2D)                                                                                            \n",
      "                                                                                                  \n",
      " block_4_depthwise_BN (BatchNor  (None, 32, 32, 192)  768        ['block_4_depthwise[0][0]']      \n",
      " malization)                                                                                      \n",
      "                                                                                                  \n",
      " block_4_depthwise_relu (ReLU)  (None, 32, 32, 192)  0           ['block_4_depthwise_BN[0][0]']   \n",
      "                                                                                                  \n",
      " block_4_project (Conv2D)       (None, 32, 32, 32)   6144        ['block_4_depthwise_relu[0][0]'] \n",
      "                                                                                                  \n",
      " block_4_project_BN (BatchNorma  (None, 32, 32, 32)  128         ['block_4_project[0][0]']        \n",
      " lization)                                                                                        \n",
      "                                                                                                  \n",
      " block_4_add (Add)              (None, 32, 32, 32)   0           ['block_3_project_BN[0][0]',     \n",
      "                                                                  'block_4_project_BN[0][0]']     \n",
      "                                                                                                  \n",
      " block_5_expand (Conv2D)        (None, 32, 32, 192)  6144        ['block_4_add[0][0]']            \n",
      "                                                                                                  \n",
      " block_5_expand_BN (BatchNormal  (None, 32, 32, 192)  768        ['block_5_expand[0][0]']         \n",
      " ization)                                                                                         \n",
      "                                                                                                  \n",
      " block_5_expand_relu (ReLU)     (None, 32, 32, 192)  0           ['block_5_expand_BN[0][0]']      \n",
      "                                                                                                  \n",
      " block_5_depthwise (DepthwiseCo  (None, 32, 32, 192)  1728       ['block_5_expand_relu[0][0]']    \n",
      " nv2D)                                                                                            \n",
      "                                                                                                  \n",
      " block_5_depthwise_BN (BatchNor  (None, 32, 32, 192)  768        ['block_5_depthwise[0][0]']      \n",
      " malization)                                                                                      \n",
      "                                                                                                  \n",
      " block_5_depthwise_relu (ReLU)  (None, 32, 32, 192)  0           ['block_5_depthwise_BN[0][0]']   \n",
      "                                                                                                  \n",
      " block_5_project (Conv2D)       (None, 32, 32, 32)   6144        ['block_5_depthwise_relu[0][0]'] \n",
      "                                                                                                  \n",
      " block_5_project_BN (BatchNorma  (None, 32, 32, 32)  128         ['block_5_project[0][0]']        \n",
      " lization)                                                                                        \n",
      "                                                                                                  \n",
      " block_5_add (Add)              (None, 32, 32, 32)   0           ['block_4_add[0][0]',            \n",
      "                                                                  'block_5_project_BN[0][0]']     \n",
      "                                                                                                  \n",
      " block_6_expand (Conv2D)        (None, 32, 32, 192)  6144        ['block_5_add[0][0]']            \n",
      "                                                                                                  \n",
      " block_6_expand_BN (BatchNormal  (None, 32, 32, 192)  768        ['block_6_expand[0][0]']         \n",
      " ization)                                                                                         \n",
      "                                                                                                  \n",
      " block_6_expand_relu (ReLU)     (None, 32, 32, 192)  0           ['block_6_expand_BN[0][0]']      \n",
      "                                                                                                  \n",
      " block_6_pad (ZeroPadding2D)    (None, 33, 33, 192)  0           ['block_6_expand_relu[0][0]']    \n",
      "                                                                                                  \n",
      " block_6_depthwise (DepthwiseCo  (None, 16, 16, 192)  1728       ['block_6_pad[0][0]']            \n",
      " nv2D)                                                                                            \n",
      "                                                                                                  \n",
      " block_6_depthwise_BN (BatchNor  (None, 16, 16, 192)  768        ['block_6_depthwise[0][0]']      \n",
      " malization)                                                                                      \n",
      "                                                                                                  \n",
      " block_6_depthwise_relu (ReLU)  (None, 16, 16, 192)  0           ['block_6_depthwise_BN[0][0]']   \n",
      "                                                                                                  \n",
      " block_6_project (Conv2D)       (None, 16, 16, 64)   12288       ['block_6_depthwise_relu[0][0]'] \n",
      "                                                                                                  \n",
      " block_6_project_BN (BatchNorma  (None, 16, 16, 64)  256         ['block_6_project[0][0]']        \n",
      " lization)                                                                                        \n",
      "                                                                                                  \n",
      " block_7_expand (Conv2D)        (None, 16, 16, 384)  24576       ['block_6_project_BN[0][0]']     \n",
      "                                                                                                  \n",
      " block_7_expand_BN (BatchNormal  (None, 16, 16, 384)  1536       ['block_7_expand[0][0]']         \n",
      " ization)                                                                                         \n",
      "                                                                                                  \n",
      " block_7_expand_relu (ReLU)     (None, 16, 16, 384)  0           ['block_7_expand_BN[0][0]']      \n",
      "                                                                                                  \n",
      " block_7_depthwise (DepthwiseCo  (None, 16, 16, 384)  3456       ['block_7_expand_relu[0][0]']    \n",
      " nv2D)                                                                                            \n",
      "                                                                                                  \n",
      " block_7_depthwise_BN (BatchNor  (None, 16, 16, 384)  1536       ['block_7_depthwise[0][0]']      \n",
      " malization)                                                                                      \n",
      "                                                                                                  \n",
      " block_7_depthwise_relu (ReLU)  (None, 16, 16, 384)  0           ['block_7_depthwise_BN[0][0]']   \n",
      "                                                                                                  \n",
      " block_7_project (Conv2D)       (None, 16, 16, 64)   24576       ['block_7_depthwise_relu[0][0]'] \n",
      "                                                                                                  \n",
      " block_7_project_BN (BatchNorma  (None, 16, 16, 64)  256         ['block_7_project[0][0]']        \n",
      " lization)                                                                                        \n",
      "                                                                                                  \n",
      " block_7_add (Add)              (None, 16, 16, 64)   0           ['block_6_project_BN[0][0]',     \n",
      "                                                                  'block_7_project_BN[0][0]']     \n",
      "                                                                                                  \n",
      " block_8_expand (Conv2D)        (None, 16, 16, 384)  24576       ['block_7_add[0][0]']            \n",
      "                                                                                                  \n",
      " block_8_expand_BN (BatchNormal  (None, 16, 16, 384)  1536       ['block_8_expand[0][0]']         \n",
      " ization)                                                                                         \n",
      "                                                                                                  \n",
      " block_8_expand_relu (ReLU)     (None, 16, 16, 384)  0           ['block_8_expand_BN[0][0]']      \n",
      "                                                                                                  \n",
      " block_8_depthwise (DepthwiseCo  (None, 16, 16, 384)  3456       ['block_8_expand_relu[0][0]']    \n",
      " nv2D)                                                                                            \n",
      "                                                                                                  \n",
      " block_8_depthwise_BN (BatchNor  (None, 16, 16, 384)  1536       ['block_8_depthwise[0][0]']      \n",
      " malization)                                                                                      \n",
      "                                                                                                  \n",
      " block_8_depthwise_relu (ReLU)  (None, 16, 16, 384)  0           ['block_8_depthwise_BN[0][0]']   \n",
      "                                                                                                  \n",
      " block_8_project (Conv2D)       (None, 16, 16, 64)   24576       ['block_8_depthwise_relu[0][0]'] \n",
      "                                                                                                  \n",
      " block_8_project_BN (BatchNorma  (None, 16, 16, 64)  256         ['block_8_project[0][0]']        \n",
      " lization)                                                                                        \n",
      "                                                                                                  \n",
      " block_8_add (Add)              (None, 16, 16, 64)   0           ['block_7_add[0][0]',            \n",
      "                                                                  'block_8_project_BN[0][0]']     \n",
      "                                                                                                  \n",
      " block_9_expand (Conv2D)        (None, 16, 16, 384)  24576       ['block_8_add[0][0]']            \n",
      "                                                                                                  \n",
      " block_9_expand_BN (BatchNormal  (None, 16, 16, 384)  1536       ['block_9_expand[0][0]']         \n",
      " ization)                                                                                         \n",
      "                                                                                                  \n",
      " block_9_expand_relu (ReLU)     (None, 16, 16, 384)  0           ['block_9_expand_BN[0][0]']      \n",
      "                                                                                                  \n",
      " block_9_depthwise (DepthwiseCo  (None, 16, 16, 384)  3456       ['block_9_expand_relu[0][0]']    \n",
      " nv2D)                                                                                            \n",
      "                                                                                                  \n",
      " block_9_depthwise_BN (BatchNor  (None, 16, 16, 384)  1536       ['block_9_depthwise[0][0]']      \n",
      " malization)                                                                                      \n",
      "                                                                                                  \n",
      " block_9_depthwise_relu (ReLU)  (None, 16, 16, 384)  0           ['block_9_depthwise_BN[0][0]']   \n",
      "                                                                                                  \n",
      " block_9_project (Conv2D)       (None, 16, 16, 64)   24576       ['block_9_depthwise_relu[0][0]'] \n",
      "                                                                                                  \n",
      " block_9_project_BN (BatchNorma  (None, 16, 16, 64)  256         ['block_9_project[0][0]']        \n",
      " lization)                                                                                        \n",
      "                                                                                                  \n",
      " block_9_add (Add)              (None, 16, 16, 64)   0           ['block_8_add[0][0]',            \n",
      "                                                                  'block_9_project_BN[0][0]']     \n",
      "                                                                                                  \n",
      " block_10_expand (Conv2D)       (None, 16, 16, 384)  24576       ['block_9_add[0][0]']            \n",
      "                                                                                                  \n",
      " block_10_expand_BN (BatchNorma  (None, 16, 16, 384)  1536       ['block_10_expand[0][0]']        \n",
      " lization)                                                                                        \n",
      "                                                                                                  \n",
      " block_10_expand_relu (ReLU)    (None, 16, 16, 384)  0           ['block_10_expand_BN[0][0]']     \n",
      "                                                                                                  \n",
      " block_10_depthwise (DepthwiseC  (None, 16, 16, 384)  3456       ['block_10_expand_relu[0][0]']   \n",
      " onv2D)                                                                                           \n",
      "                                                                                                  \n",
      " block_10_depthwise_BN (BatchNo  (None, 16, 16, 384)  1536       ['block_10_depthwise[0][0]']     \n",
      " rmalization)                                                                                     \n",
      "                                                                                                  \n",
      " block_10_depthwise_relu (ReLU)  (None, 16, 16, 384)  0          ['block_10_depthwise_BN[0][0]']  \n",
      "                                                                                                  \n",
      " block_10_project (Conv2D)      (None, 16, 16, 96)   36864       ['block_10_depthwise_relu[0][0]']\n",
      "                                                                                                  \n",
      " block_10_project_BN (BatchNorm  (None, 16, 16, 96)  384         ['block_10_project[0][0]']       \n",
      " alization)                                                                                       \n",
      "                                                                                                  \n",
      " block_11_expand (Conv2D)       (None, 16, 16, 576)  55296       ['block_10_project_BN[0][0]']    \n",
      "                                                                                                  \n",
      " block_11_expand_BN (BatchNorma  (None, 16, 16, 576)  2304       ['block_11_expand[0][0]']        \n",
      " lization)                                                                                        \n",
      "                                                                                                  \n",
      " block_11_expand_relu (ReLU)    (None, 16, 16, 576)  0           ['block_11_expand_BN[0][0]']     \n",
      "                                                                                                  \n",
      " block_11_depthwise (DepthwiseC  (None, 16, 16, 576)  5184       ['block_11_expand_relu[0][0]']   \n",
      " onv2D)                                                                                           \n",
      "                                                                                                  \n",
      " block_11_depthwise_BN (BatchNo  (None, 16, 16, 576)  2304       ['block_11_depthwise[0][0]']     \n",
      " rmalization)                                                                                     \n",
      "                                                                                                  \n",
      " block_11_depthwise_relu (ReLU)  (None, 16, 16, 576)  0          ['block_11_depthwise_BN[0][0]']  \n",
      "                                                                                                  \n",
      " block_11_project (Conv2D)      (None, 16, 16, 96)   55296       ['block_11_depthwise_relu[0][0]']\n",
      "                                                                                                  \n",
      " block_11_project_BN (BatchNorm  (None, 16, 16, 96)  384         ['block_11_project[0][0]']       \n",
      " alization)                                                                                       \n",
      "                                                                                                  \n",
      " block_11_add (Add)             (None, 16, 16, 96)   0           ['block_10_project_BN[0][0]',    \n",
      "                                                                  'block_11_project_BN[0][0]']    \n",
      "                                                                                                  \n",
      " block_12_expand (Conv2D)       (None, 16, 16, 576)  55296       ['block_11_add[0][0]']           \n",
      "                                                                                                  \n",
      " block_12_expand_BN (BatchNorma  (None, 16, 16, 576)  2304       ['block_12_expand[0][0]']        \n",
      " lization)                                                                                        \n",
      "                                                                                                  \n",
      " block_12_expand_relu (ReLU)    (None, 16, 16, 576)  0           ['block_12_expand_BN[0][0]']     \n",
      "                                                                                                  \n",
      " block_12_depthwise (DepthwiseC  (None, 16, 16, 576)  5184       ['block_12_expand_relu[0][0]']   \n",
      " onv2D)                                                                                           \n",
      "                                                                                                  \n",
      " block_12_depthwise_BN (BatchNo  (None, 16, 16, 576)  2304       ['block_12_depthwise[0][0]']     \n",
      " rmalization)                                                                                     \n",
      "                                                                                                  \n",
      " block_12_depthwise_relu (ReLU)  (None, 16, 16, 576)  0          ['block_12_depthwise_BN[0][0]']  \n",
      "                                                                                                  \n",
      " block_12_project (Conv2D)      (None, 16, 16, 96)   55296       ['block_12_depthwise_relu[0][0]']\n",
      "                                                                                                  \n",
      " block_12_project_BN (BatchNorm  (None, 16, 16, 96)  384         ['block_12_project[0][0]']       \n",
      " alization)                                                                                       \n",
      "                                                                                                  \n",
      " block_12_add (Add)             (None, 16, 16, 96)   0           ['block_11_add[0][0]',           \n",
      "                                                                  'block_12_project_BN[0][0]']    \n",
      "                                                                                                  \n",
      " block_13_expand (Conv2D)       (None, 16, 16, 576)  55296       ['block_12_add[0][0]']           \n",
      "                                                                                                  \n",
      " block_13_expand_BN (BatchNorma  (None, 16, 16, 576)  2304       ['block_13_expand[0][0]']        \n",
      " lization)                                                                                        \n",
      "                                                                                                  \n",
      " block_13_expand_relu (ReLU)    (None, 16, 16, 576)  0           ['block_13_expand_BN[0][0]']     \n",
      "                                                                                                  \n",
      " block_13_pad (ZeroPadding2D)   (None, 17, 17, 576)  0           ['block_13_expand_relu[0][0]']   \n",
      "                                                                                                  \n",
      " block_13_depthwise (DepthwiseC  (None, 8, 8, 576)   5184        ['block_13_pad[0][0]']           \n",
      " onv2D)                                                                                           \n",
      "                                                                                                  \n",
      " block_13_depthwise_BN (BatchNo  (None, 8, 8, 576)   2304        ['block_13_depthwise[0][0]']     \n",
      " rmalization)                                                                                     \n",
      "                                                                                                  \n",
      " block_13_depthwise_relu (ReLU)  (None, 8, 8, 576)   0           ['block_13_depthwise_BN[0][0]']  \n",
      "                                                                                                  \n",
      " block_13_project (Conv2D)      (None, 8, 8, 160)    92160       ['block_13_depthwise_relu[0][0]']\n",
      "                                                                                                  \n",
      " block_13_project_BN (BatchNorm  (None, 8, 8, 160)   640         ['block_13_project[0][0]']       \n",
      " alization)                                                                                       \n",
      "                                                                                                  \n",
      " block_14_expand (Conv2D)       (None, 8, 8, 960)    153600      ['block_13_project_BN[0][0]']    \n",
      "                                                                                                  \n",
      " block_14_expand_BN (BatchNorma  (None, 8, 8, 960)   3840        ['block_14_expand[0][0]']        \n",
      " lization)                                                                                        \n",
      "                                                                                                  \n",
      " block_14_expand_relu (ReLU)    (None, 8, 8, 960)    0           ['block_14_expand_BN[0][0]']     \n",
      "                                                                                                  \n",
      " block_14_depthwise (DepthwiseC  (None, 8, 8, 960)   8640        ['block_14_expand_relu[0][0]']   \n",
      " onv2D)                                                                                           \n",
      "                                                                                                  \n",
      " block_14_depthwise_BN (BatchNo  (None, 8, 8, 960)   3840        ['block_14_depthwise[0][0]']     \n",
      " rmalization)                                                                                     \n",
      "                                                                                                  \n",
      " block_14_depthwise_relu (ReLU)  (None, 8, 8, 960)   0           ['block_14_depthwise_BN[0][0]']  \n",
      "                                                                                                  \n",
      " block_14_project (Conv2D)      (None, 8, 8, 160)    153600      ['block_14_depthwise_relu[0][0]']\n",
      "                                                                                                  \n",
      " block_14_project_BN (BatchNorm  (None, 8, 8, 160)   640         ['block_14_project[0][0]']       \n",
      " alization)                                                                                       \n",
      "                                                                                                  \n",
      " block_14_add (Add)             (None, 8, 8, 160)    0           ['block_13_project_BN[0][0]',    \n",
      "                                                                  'block_14_project_BN[0][0]']    \n",
      "                                                                                                  \n",
      " block_15_expand (Conv2D)       (None, 8, 8, 960)    153600      ['block_14_add[0][0]']           \n",
      "                                                                                                  \n",
      " block_15_expand_BN (BatchNorma  (None, 8, 8, 960)   3840        ['block_15_expand[0][0]']        \n",
      " lization)                                                                                        \n",
      "                                                                                                  \n",
      " block_15_expand_relu (ReLU)    (None, 8, 8, 960)    0           ['block_15_expand_BN[0][0]']     \n",
      "                                                                                                  \n",
      " block_15_depthwise (DepthwiseC  (None, 8, 8, 960)   8640        ['block_15_expand_relu[0][0]']   \n",
      " onv2D)                                                                                           \n",
      "                                                                                                  \n",
      " block_15_depthwise_BN (BatchNo  (None, 8, 8, 960)   3840        ['block_15_depthwise[0][0]']     \n",
      " rmalization)                                                                                     \n",
      "                                                                                                  \n",
      " block_15_depthwise_relu (ReLU)  (None, 8, 8, 960)   0           ['block_15_depthwise_BN[0][0]']  \n",
      "                                                                                                  \n",
      " block_15_project (Conv2D)      (None, 8, 8, 160)    153600      ['block_15_depthwise_relu[0][0]']\n",
      "                                                                                                  \n",
      " block_15_project_BN (BatchNorm  (None, 8, 8, 160)   640         ['block_15_project[0][0]']       \n",
      " alization)                                                                                       \n",
      "                                                                                                  \n",
      " block_15_add (Add)             (None, 8, 8, 160)    0           ['block_14_add[0][0]',           \n",
      "                                                                  'block_15_project_BN[0][0]']    \n",
      "                                                                                                  \n",
      " block_16_expand (Conv2D)       (None, 8, 8, 960)    153600      ['block_15_add[0][0]']           \n",
      "                                                                                                  \n",
      " block_16_expand_BN (BatchNorma  (None, 8, 8, 960)   3840        ['block_16_expand[0][0]']        \n",
      " lization)                                                                                        \n",
      "                                                                                                  \n",
      " block_16_expand_relu (ReLU)    (None, 8, 8, 960)    0           ['block_16_expand_BN[0][0]']     \n",
      "                                                                                                  \n",
      " block_16_depthwise (DepthwiseC  (None, 8, 8, 960)   8640        ['block_16_expand_relu[0][0]']   \n",
      " onv2D)                                                                                           \n",
      "                                                                                                  \n",
      " block_16_depthwise_BN (BatchNo  (None, 8, 8, 960)   3840        ['block_16_depthwise[0][0]']     \n",
      " rmalization)                                                                                     \n",
      "                                                                                                  \n",
      " block_16_depthwise_relu (ReLU)  (None, 8, 8, 960)   0           ['block_16_depthwise_BN[0][0]']  \n",
      "                                                                                                  \n",
      " block_16_project (Conv2D)      (None, 8, 8, 320)    307200      ['block_16_depthwise_relu[0][0]']\n",
      "                                                                                                  \n",
      " block_16_project_BN (BatchNorm  (None, 8, 8, 320)   1280        ['block_16_project[0][0]']       \n",
      " alization)                                                                                       \n",
      "                                                                                                  \n",
      " Conv_1 (Conv2D)                (None, 8, 8, 1280)   409600      ['block_16_project_BN[0][0]']    \n",
      "                                                                                                  \n",
      " Conv_1_bn (BatchNormalization)  (None, 8, 8, 1280)  5120        ['Conv_1[0][0]']                 \n",
      "                                                                                                  \n",
      " out_relu (ReLU)                (None, 8, 8, 1280)   0           ['Conv_1_bn[0][0]']              \n",
      "                                                                                                  \n",
      " max_pooling2d (MaxPooling2D)   (None, 4, 4, 1280)   0           ['out_relu[0][0]']               \n",
      "                                                                                                  \n",
      " flatten (Flatten)              (None, 20480)        0           ['max_pooling2d[0][0]']          \n",
      "                                                                                                  \n",
      " dense (Dense)                  (None, 512)          10486272    ['flatten[0][0]']                \n",
      "                                                                                                  \n",
      " leaky_re_lu (LeakyReLU)        (None, 512)          0           ['dense[0][0]']                  \n",
      "                                                                                                  \n",
      " dropout (Dropout)              (None, 512)          0           ['leaky_re_lu[0][0]']            \n",
      "                                                                                                  \n",
      " dense_1 (Dense)                (None, 1519)         779247      ['dropout[0][0]']                \n",
      "                                                                                                  \n",
      " reshape (Reshape)              (None, 7, 7, 31)     0           ['dense_1[0][0]']                \n",
      "                                                                                                  \n",
      " yolo_activation (YoloActivatio  (None, 7, 7, 31)    0           ['reshape[0][0]']                \n",
      " n)                                                                                               \n",
      "                                                                                                  \n",
      "==================================================================================================\n",
      "Total params: 13,523,503\n",
      "Trainable params: 13,489,391\n",
      "Non-trainable params: 34,112\n",
      "__________________________________________________________________________________________________\n"
     ]
    }
   ],
   "source": [
    "class YoloActivation(tf.keras.layers.Layer) :\n",
    "    \n",
    "    def call(self, inputs) :\n",
    "        coordinates = tf.nn.sigmoid(inputs[..., 0:5])\n",
    "        classes = tf.nn.softmax(inputs[...,5:], axis = -1)\n",
    "        return tf.concat([classes, coordinates], axis = -1)\n",
    "def asl_model():\n",
    "    \n",
    "    input_shape=(IMAGE_HEIGHT,IMAGE_WIDTH,3)\n",
    "    inputs = layers.Input(input_shape)\n",
    "\n",
    "    pretrain = MobileNetV2(include_top=False,weights=\"imagenet\",input_tensor=inputs)\n",
    "    pretrain.trainable = True\n",
    "    \n",
    "    output_noeds = S*S*(5 + N_CLASSES)\n",
    "\n",
    "    \n",
    "    x = pretrain.output\n",
    "    x=layers.MaxPooling2D()(x)\n",
    "\n",
    "    x=layers.Flatten()(x)\n",
    "    x=layers.Dense(512)(x)\n",
    "    x=layers.LeakyReLU(0.1)(x)\n",
    "    x=layers.Dropout(0.5)(x)\n",
    "    x=layers.Dense(output_noeds)(x)\n",
    "    x=layers.Reshape((S,S,5+ N_CLASSES))(x)\n",
    "    output_layer=YoloActivation()(x)\n",
    "\n",
    "    \n",
    "    model = tf.keras.models.Model(inputs=[inputs], outputs=[output_layer])\n",
    "    return model\n",
    "    \n",
    "\n",
    "model=asl_model()\n",
    "model.summary()\n"
   ]
  },
  {
   "cell_type": "code",
   "execution_count": 6,
   "metadata": {},
   "outputs": [],
   "source": [
    "def CoordLoss(y_true, y_pred) :\n",
    "    \n",
    "    existsObject = tf.expand_dims(y_true[..., 4], -1)\n",
    "    \n",
    "    xy_pred = existsObject * y_pred[..., 0:2]\n",
    "    xy_true = existsObject * y_true[..., 0:2]\n",
    "    \n",
    "    wh_pred = existsObject * tf.math.sign(y_pred[..., 2:4]) * tf.sqrt(tf.math.abs(y_pred[..., 2:4]))\n",
    "    wh_true = existsObject * tf.sqrt(y_true[..., 2:4])\n",
    "    \n",
    "    coordLoss = tf.reduce_sum(tf.math.square(wh_pred - wh_true))\n",
    "    coordLoss += tf.reduce_sum(tf.math.square(xy_pred - xy_true))\n",
    "    \n",
    "    return coordLoss / tf.cast(tf.math.count_nonzero(existsObject) , dtype = tf.float32) #for mean\n",
    "\n",
    "def ConfidenceLoss(y_true, y_pred):\n",
    "    #find if the object exists in the grid\n",
    "    existsObject = tf.expand_dims(y_true[..., 4], -1)\n",
    "    \n",
    "    \n",
    "    confidenceLoss = tf.reduce_sum(tf.math.square(existsObject * (y_true[..., 4:5] - y_pred[..., 4:5])))\n",
    "    \n",
    "    \n",
    "    confidenceLoss += 0.5 * tf.reduce_sum(tf.math.square((1 - existsObject) * (y_true[..., 4:5] - y_pred[..., 4:5])))\n",
    "    \n",
    "    return confidenceLoss / tf.cast(tf.math.count_nonzero(existsObject) , dtype = tf.float32) #for mean\n",
    "\n",
    "def ClassLoss(y_true, y_pred) :\n",
    "    \n",
    "    existsObject = tf.expand_dims(y_true[..., 4], -1)\n",
    "    \n",
    "    classLoss = tf.reduce_sum(tf.math.square(existsObject * (y_true[...,5:] - y_pred[...,5:])))\n",
    "    \n",
    "    return classLoss / tf.cast(tf.math.count_nonzero(existsObject) , dtype = tf.float32) #for mean\n",
    "def yoloLoss(y_true, y_pred) :\n",
    "    coordLoss = CoordLoss(y_true, y_pred)\n",
    "    confidenceLoss = ConfidenceLoss(y_true, y_pred)\n",
    "    classLoss = ClassLoss(y_true, y_pred)\n",
    "    \n",
    "    return 5 * coordLoss + 2 * confidenceLoss + 0.5 * classLoss"
   ]
  },
  {
   "cell_type": "code",
   "execution_count": 7,
   "metadata": {},
   "outputs": [
    {
     "name": "stdout",
     "output_type": "stream",
     "text": [
      "tf.Tensor(4.531311, shape=(), dtype=float32)\n"
     ]
    }
   ],
   "source": [
    "ds,ds2=ds_train.take(2)\n",
    "\n",
    "print(yoloLoss(ds[1],ds2[1]))"
   ]
  },
  {
   "cell_type": "code",
   "execution_count": 8,
   "metadata": {},
   "outputs": [],
   "source": [
    "model.compile(loss=yoloLoss ,optimizer=optimizers.Adam(LR), metrics = [CoordLoss, ConfidenceLoss, ClassLoss])\n",
    "\n",
    "# l,pred=np.random.rand(64,S,S,N_CLASSES+5),np.random.rand(64,S,S,N_CLASSES+5)\n"
   ]
  },
  {
   "cell_type": "code",
   "execution_count": 9,
   "metadata": {},
   "outputs": [
    {
     "name": "stdout",
     "output_type": "stream",
     "text": [
      "Epoch 1/500\n",
      "378/378 [==============================] - ETA: 0s - loss: 5.7261 - CoordLoss: 0.6734 - ConfidenceLoss: 0.8949 - ClassLoss: 1.1372\n",
      "Epoch 1: val_loss improved from inf to 4.09268, saving model to D:\\df\\ai\\models\\yolo\n"
     ]
    },
    {
     "name": "stderr",
     "output_type": "stream",
     "text": [
      "WARNING:absl:Found untraced functions such as _jit_compiled_convolution_op, _jit_compiled_convolution_op, _jit_compiled_convolution_op, _jit_compiled_convolution_op, _jit_compiled_convolution_op while saving (showing 5 of 52). These functions will not be directly callable after loading.\n"
     ]
    },
    {
     "name": "stdout",
     "output_type": "stream",
     "text": [
      "INFO:tensorflow:Assets written to: D:\\df\\ai\\models\\yolo\\assets\n"
     ]
    },
    {
     "name": "stderr",
     "output_type": "stream",
     "text": [
      "INFO:tensorflow:Assets written to: D:\\df\\ai\\models\\yolo\\assets\n"
     ]
    },
    {
     "name": "stdout",
     "output_type": "stream",
     "text": [
      "378/378 [==============================] - 59s 131ms/step - loss: 5.7261 - CoordLoss: 0.6734 - ConfidenceLoss: 0.8949 - ClassLoss: 1.1372 - val_loss: 4.0927 - val_CoordLoss: 0.3613 - val_ConfidenceLoss: 0.8932 - val_ClassLoss: 0.9996 - lr: 1.0000e-04\n",
      "Epoch 2/500\n",
      "378/378 [==============================] - ETA: 0s - loss: 4.1881 - CoordLoss: 0.4241 - ConfidenceLoss: 0.7806 - ClassLoss: 1.0129\n",
      "Epoch 2: val_loss improved from 4.09268 to 3.45157, saving model to D:\\df\\ai\\models\\yolo\n"
     ]
    },
    {
     "name": "stderr",
     "output_type": "stream",
     "text": [
      "WARNING:absl:Found untraced functions such as _jit_compiled_convolution_op, _jit_compiled_convolution_op, _jit_compiled_convolution_op, _jit_compiled_convolution_op, _jit_compiled_convolution_op while saving (showing 5 of 52). These functions will not be directly callable after loading.\n"
     ]
    },
    {
     "name": "stdout",
     "output_type": "stream",
     "text": [
      "INFO:tensorflow:Assets written to: D:\\df\\ai\\models\\yolo\\assets\n"
     ]
    },
    {
     "name": "stderr",
     "output_type": "stream",
     "text": [
      "INFO:tensorflow:Assets written to: D:\\df\\ai\\models\\yolo\\assets\n"
     ]
    },
    {
     "name": "stdout",
     "output_type": "stream",
     "text": [
      "378/378 [==============================] - 46s 121ms/step - loss: 4.1881 - CoordLoss: 0.4241 - ConfidenceLoss: 0.7806 - ClassLoss: 1.0129 - val_loss: 3.4516 - val_CoordLoss: 0.2702 - val_ConfidenceLoss: 0.8009 - val_ClassLoss: 0.9975 - lr: 1.0000e-04\n",
      "Epoch 3/500\n",
      "378/378 [==============================] - ETA: 0s - loss: 3.9481 - CoordLoss: 0.3919 - ConfidenceLoss: 0.7465 - ClassLoss: 0.9914\n",
      "Epoch 3: val_loss improved from 3.45157 to 3.41081, saving model to D:\\df\\ai\\models\\yolo\n"
     ]
    },
    {
     "name": "stderr",
     "output_type": "stream",
     "text": [
      "WARNING:absl:Found untraced functions such as _jit_compiled_convolution_op, _jit_compiled_convolution_op, _jit_compiled_convolution_op, _jit_compiled_convolution_op, _jit_compiled_convolution_op while saving (showing 5 of 52). These functions will not be directly callable after loading.\n"
     ]
    },
    {
     "name": "stdout",
     "output_type": "stream",
     "text": [
      "INFO:tensorflow:Assets written to: D:\\df\\ai\\models\\yolo\\assets\n"
     ]
    },
    {
     "name": "stderr",
     "output_type": "stream",
     "text": [
      "INFO:tensorflow:Assets written to: D:\\df\\ai\\models\\yolo\\assets\n"
     ]
    },
    {
     "name": "stdout",
     "output_type": "stream",
     "text": [
      "378/378 [==============================] - 45s 120ms/step - loss: 3.9481 - CoordLoss: 0.3919 - ConfidenceLoss: 0.7465 - ClassLoss: 0.9914 - val_loss: 3.4108 - val_CoordLoss: 0.2754 - val_ConfidenceLoss: 0.7684 - val_ClassLoss: 0.9941 - lr: 1.0000e-04\n",
      "Epoch 4/500\n",
      "378/378 [==============================] - ETA: 0s - loss: 3.8559 - CoordLoss: 0.3823 - ConfidenceLoss: 0.7259 - ClassLoss: 0.9857\n",
      "Epoch 4: val_loss improved from 3.41081 to 3.36671, saving model to D:\\df\\ai\\models\\yolo\n"
     ]
    },
    {
     "name": "stderr",
     "output_type": "stream",
     "text": [
      "WARNING:absl:Found untraced functions such as _jit_compiled_convolution_op, _jit_compiled_convolution_op, _jit_compiled_convolution_op, _jit_compiled_convolution_op, _jit_compiled_convolution_op while saving (showing 5 of 52). These functions will not be directly callable after loading.\n"
     ]
    },
    {
     "name": "stdout",
     "output_type": "stream",
     "text": [
      "INFO:tensorflow:Assets written to: D:\\df\\ai\\models\\yolo\\assets\n"
     ]
    },
    {
     "name": "stderr",
     "output_type": "stream",
     "text": [
      "INFO:tensorflow:Assets written to: D:\\df\\ai\\models\\yolo\\assets\n"
     ]
    },
    {
     "name": "stdout",
     "output_type": "stream",
     "text": [
      "378/378 [==============================] - 46s 121ms/step - loss: 3.8559 - CoordLoss: 0.3823 - ConfidenceLoss: 0.7259 - ClassLoss: 0.9857 - val_loss: 3.3667 - val_CoordLoss: 0.2830 - val_ConfidenceLoss: 0.7286 - val_ClassLoss: 0.9886 - lr: 1.0000e-04\n",
      "Epoch 5/500\n",
      "378/378 [==============================] - ETA: 0s - loss: 3.8089 - CoordLoss: 0.3807 - ConfidenceLoss: 0.7087 - ClassLoss: 0.9770\n",
      "Epoch 5: val_loss improved from 3.36671 to 3.34404, saving model to D:\\df\\ai\\models\\yolo\n"
     ]
    },
    {
     "name": "stderr",
     "output_type": "stream",
     "text": [
      "WARNING:absl:Found untraced functions such as _jit_compiled_convolution_op, _jit_compiled_convolution_op, _jit_compiled_convolution_op, _jit_compiled_convolution_op, _jit_compiled_convolution_op while saving (showing 5 of 52). These functions will not be directly callable after loading.\n"
     ]
    },
    {
     "name": "stdout",
     "output_type": "stream",
     "text": [
      "INFO:tensorflow:Assets written to: D:\\df\\ai\\models\\yolo\\assets\n"
     ]
    },
    {
     "name": "stderr",
     "output_type": "stream",
     "text": [
      "INFO:tensorflow:Assets written to: D:\\df\\ai\\models\\yolo\\assets\n"
     ]
    },
    {
     "name": "stdout",
     "output_type": "stream",
     "text": [
      "378/378 [==============================] - 45s 120ms/step - loss: 3.8089 - CoordLoss: 0.3807 - ConfidenceLoss: 0.7087 - ClassLoss: 0.9770 - val_loss: 3.3440 - val_CoordLoss: 0.2787 - val_ConfidenceLoss: 0.7288 - val_ClassLoss: 0.9860 - lr: 1.0000e-04\n",
      "Epoch 6/500\n",
      "378/378 [==============================] - ETA: 0s - loss: 3.7647 - CoordLoss: 0.3764 - ConfidenceLoss: 0.6989 - ClassLoss: 0.9703\n",
      "Epoch 6: val_loss improved from 3.34404 to 3.32826, saving model to D:\\df\\ai\\models\\yolo\n"
     ]
    },
    {
     "name": "stderr",
     "output_type": "stream",
     "text": [
      "WARNING:absl:Found untraced functions such as _jit_compiled_convolution_op, _jit_compiled_convolution_op, _jit_compiled_convolution_op, _jit_compiled_convolution_op, _jit_compiled_convolution_op while saving (showing 5 of 52). These functions will not be directly callable after loading.\n"
     ]
    },
    {
     "name": "stdout",
     "output_type": "stream",
     "text": [
      "INFO:tensorflow:Assets written to: D:\\df\\ai\\models\\yolo\\assets\n"
     ]
    },
    {
     "name": "stderr",
     "output_type": "stream",
     "text": [
      "INFO:tensorflow:Assets written to: D:\\df\\ai\\models\\yolo\\assets\n"
     ]
    },
    {
     "name": "stdout",
     "output_type": "stream",
     "text": [
      "378/378 [==============================] - 46s 121ms/step - loss: 3.7647 - CoordLoss: 0.3764 - ConfidenceLoss: 0.6989 - ClassLoss: 0.9703 - val_loss: 3.3283 - val_CoordLoss: 0.2803 - val_ConfidenceLoss: 0.7174 - val_ClassLoss: 0.9833 - lr: 1.0000e-04\n",
      "Epoch 7/500\n",
      "378/378 [==============================] - ETA: 0s - loss: 3.7365 - CoordLoss: 0.3743 - ConfidenceLoss: 0.6919 - ClassLoss: 0.9627\n",
      "Epoch 7: val_loss improved from 3.32826 to 3.31897, saving model to D:\\df\\ai\\models\\yolo\n"
     ]
    },
    {
     "name": "stderr",
     "output_type": "stream",
     "text": [
      "WARNING:absl:Found untraced functions such as _jit_compiled_convolution_op, _jit_compiled_convolution_op, _jit_compiled_convolution_op, _jit_compiled_convolution_op, _jit_compiled_convolution_op while saving (showing 5 of 52). These functions will not be directly callable after loading.\n"
     ]
    },
    {
     "name": "stdout",
     "output_type": "stream",
     "text": [
      "INFO:tensorflow:Assets written to: D:\\df\\ai\\models\\yolo\\assets\n"
     ]
    },
    {
     "name": "stderr",
     "output_type": "stream",
     "text": [
      "INFO:tensorflow:Assets written to: D:\\df\\ai\\models\\yolo\\assets\n"
     ]
    },
    {
     "name": "stdout",
     "output_type": "stream",
     "text": [
      "378/378 [==============================] - 46s 121ms/step - loss: 3.7365 - CoordLoss: 0.3743 - ConfidenceLoss: 0.6919 - ClassLoss: 0.9627 - val_loss: 3.3190 - val_CoordLoss: 0.2755 - val_ConfidenceLoss: 0.7257 - val_ClassLoss: 0.9804 - lr: 1.0000e-04\n",
      "Epoch 8/500\n",
      "378/378 [==============================] - ETA: 0s - loss: 3.7146 - CoordLoss: 0.3729 - ConfidenceLoss: 0.6863 - ClassLoss: 0.9560\n",
      "Epoch 8: val_loss improved from 3.31897 to 3.31700, saving model to D:\\df\\ai\\models\\yolo\n"
     ]
    },
    {
     "name": "stderr",
     "output_type": "stream",
     "text": [
      "WARNING:absl:Found untraced functions such as _jit_compiled_convolution_op, _jit_compiled_convolution_op, _jit_compiled_convolution_op, _jit_compiled_convolution_op, _jit_compiled_convolution_op while saving (showing 5 of 52). These functions will not be directly callable after loading.\n"
     ]
    },
    {
     "name": "stdout",
     "output_type": "stream",
     "text": [
      "INFO:tensorflow:Assets written to: D:\\df\\ai\\models\\yolo\\assets\n"
     ]
    },
    {
     "name": "stderr",
     "output_type": "stream",
     "text": [
      "INFO:tensorflow:Assets written to: D:\\df\\ai\\models\\yolo\\assets\n"
     ]
    },
    {
     "name": "stdout",
     "output_type": "stream",
     "text": [
      "378/378 [==============================] - 45s 119ms/step - loss: 3.7146 - CoordLoss: 0.3729 - ConfidenceLoss: 0.6863 - ClassLoss: 0.9560 - val_loss: 3.3170 - val_CoordLoss: 0.2800 - val_ConfidenceLoss: 0.7143 - val_ClassLoss: 0.9770 - lr: 1.0000e-04\n",
      "Epoch 9/500\n",
      "378/378 [==============================] - ETA: 0s - loss: 3.6998 - CoordLoss: 0.3734 - ConfidenceLoss: 0.6806 - ClassLoss: 0.9436\n",
      "Epoch 9: val_loss improved from 3.31700 to 3.30285, saving model to D:\\df\\ai\\models\\yolo\n"
     ]
    },
    {
     "name": "stderr",
     "output_type": "stream",
     "text": [
      "WARNING:absl:Found untraced functions such as _jit_compiled_convolution_op, _jit_compiled_convolution_op, _jit_compiled_convolution_op, _jit_compiled_convolution_op, _jit_compiled_convolution_op while saving (showing 5 of 52). These functions will not be directly callable after loading.\n"
     ]
    },
    {
     "name": "stdout",
     "output_type": "stream",
     "text": [
      "INFO:tensorflow:Assets written to: D:\\df\\ai\\models\\yolo\\assets\n"
     ]
    },
    {
     "name": "stderr",
     "output_type": "stream",
     "text": [
      "INFO:tensorflow:Assets written to: D:\\df\\ai\\models\\yolo\\assets\n"
     ]
    },
    {
     "name": "stdout",
     "output_type": "stream",
     "text": [
      "378/378 [==============================] - 45s 118ms/step - loss: 3.6998 - CoordLoss: 0.3734 - ConfidenceLoss: 0.6806 - ClassLoss: 0.9436 - val_loss: 3.3028 - val_CoordLoss: 0.2821 - val_ConfidenceLoss: 0.7026 - val_ClassLoss: 0.9746 - lr: 1.0000e-04\n",
      "Epoch 10/500\n",
      "378/378 [==============================] - ETA: 0s - loss: 3.6770 - CoordLoss: 0.3722 - ConfidenceLoss: 0.6759 - ClassLoss: 0.9283\n",
      "Epoch 10: val_loss did not improve from 3.30285\n",
      "378/378 [==============================] - 28s 73ms/step - loss: 3.6770 - CoordLoss: 0.3722 - ConfidenceLoss: 0.6759 - ClassLoss: 0.9283 - val_loss: 3.3042 - val_CoordLoss: 0.2791 - val_ConfidenceLoss: 0.7102 - val_ClassLoss: 0.9763 - lr: 1.0000e-04\n",
      "Epoch 11/500\n",
      "378/378 [==============================] - ETA: 0s - loss: 3.6667 - CoordLoss: 0.3715 - ConfidenceLoss: 0.6760 - ClassLoss: 0.9151\n",
      "Epoch 11: val_loss did not improve from 3.30285\n",
      "378/378 [==============================] - 28s 73ms/step - loss: 3.6667 - CoordLoss: 0.3715 - ConfidenceLoss: 0.6760 - ClassLoss: 0.9151 - val_loss: 3.3054 - val_CoordLoss: 0.2795 - val_ConfidenceLoss: 0.7107 - val_ClassLoss: 0.9724 - lr: 1.0000e-04\n",
      "Epoch 12/500\n",
      "378/378 [==============================] - ETA: 0s - loss: 3.6476 - CoordLoss: 0.3722 - ConfidenceLoss: 0.6691 - ClassLoss: 0.8975\n",
      "Epoch 12: val_loss did not improve from 3.30285\n",
      "378/378 [==============================] - 28s 73ms/step - loss: 3.6476 - CoordLoss: 0.3722 - ConfidenceLoss: 0.6691 - ClassLoss: 0.8975 - val_loss: 3.3082 - val_CoordLoss: 0.2778 - val_ConfidenceLoss: 0.7160 - val_ClassLoss: 0.9745 - lr: 1.0000e-04\n",
      "Epoch 13/500\n",
      "378/378 [==============================] - ETA: 0s - loss: 3.6398 - CoordLoss: 0.3723 - ConfidenceLoss: 0.6682 - ClassLoss: 0.8847\n",
      "Epoch 13: val_loss did not improve from 3.30285\n",
      "378/378 [==============================] - 28s 73ms/step - loss: 3.6398 - CoordLoss: 0.3723 - ConfidenceLoss: 0.6682 - ClassLoss: 0.8847 - val_loss: 3.3144 - val_CoordLoss: 0.2767 - val_ConfidenceLoss: 0.7198 - val_ClassLoss: 0.9826 - lr: 1.0000e-04\n",
      "Epoch 14/500\n",
      "378/378 [==============================] - ETA: 0s - loss: 3.6383 - CoordLoss: 0.3713 - ConfidenceLoss: 0.6701 - ClassLoss: 0.8840\n",
      "Epoch 14: val_loss did not improve from 3.30285\n",
      "\n",
      "Epoch 14: ReduceLROnPlateau reducing learning rate to 9.999999747378752e-06.\n",
      "378/378 [==============================] - 28s 73ms/step - loss: 3.6383 - CoordLoss: 0.3713 - ConfidenceLoss: 0.6701 - ClassLoss: 0.8840 - val_loss: 3.4010 - val_CoordLoss: 0.2862 - val_ConfidenceLoss: 0.7340 - val_ClassLoss: 1.0034 - lr: 1.0000e-04\n",
      "Epoch 15/500\n",
      "378/378 [==============================] - ETA: 0s - loss: 3.6228 - CoordLoss: 0.3697 - ConfidenceLoss: 0.6700 - ClassLoss: 0.8689\n",
      "Epoch 15: val_loss did not improve from 3.30285\n",
      "378/378 [==============================] - 28s 73ms/step - loss: 3.6228 - CoordLoss: 0.3697 - ConfidenceLoss: 0.6700 - ClassLoss: 0.8689 - val_loss: 3.3294 - val_CoordLoss: 0.2917 - val_ConfidenceLoss: 0.6905 - val_ClassLoss: 0.9797 - lr: 1.0000e-05\n",
      "Epoch 16/500\n",
      "378/378 [==============================] - ETA: 0s - loss: 3.6089 - CoordLoss: 0.3710 - ConfidenceLoss: 0.6608 - ClassLoss: 0.8648\n",
      "Epoch 16: val_loss improved from 3.30285 to 3.29972, saving model to D:\\df\\ai\\models\\yolo\n"
     ]
    },
    {
     "name": "stderr",
     "output_type": "stream",
     "text": [
      "WARNING:absl:Found untraced functions such as _jit_compiled_convolution_op, _jit_compiled_convolution_op, _jit_compiled_convolution_op, _jit_compiled_convolution_op, _jit_compiled_convolution_op while saving (showing 5 of 52). These functions will not be directly callable after loading.\n"
     ]
    },
    {
     "name": "stdout",
     "output_type": "stream",
     "text": [
      "INFO:tensorflow:Assets written to: D:\\df\\ai\\models\\yolo\\assets\n"
     ]
    },
    {
     "name": "stderr",
     "output_type": "stream",
     "text": [
      "INFO:tensorflow:Assets written to: D:\\df\\ai\\models\\yolo\\assets\n"
     ]
    },
    {
     "name": "stdout",
     "output_type": "stream",
     "text": [
      "378/378 [==============================] - 45s 119ms/step - loss: 3.6089 - CoordLoss: 0.3710 - ConfidenceLoss: 0.6608 - ClassLoss: 0.8648 - val_loss: 3.2997 - val_CoordLoss: 0.2889 - val_ConfidenceLoss: 0.6872 - val_ClassLoss: 0.9612 - lr: 1.0000e-05\n",
      "Epoch 17/500\n",
      "378/378 [==============================] - ETA: 0s - loss: 3.6012 - CoordLoss: 0.3708 - ConfidenceLoss: 0.6583 - ClassLoss: 0.8622\n",
      "Epoch 17: val_loss improved from 3.29972 to 3.28752, saving model to D:\\df\\ai\\models\\yolo\n"
     ]
    },
    {
     "name": "stderr",
     "output_type": "stream",
     "text": [
      "WARNING:absl:Found untraced functions such as _jit_compiled_convolution_op, _jit_compiled_convolution_op, _jit_compiled_convolution_op, _jit_compiled_convolution_op, _jit_compiled_convolution_op while saving (showing 5 of 52). These functions will not be directly callable after loading.\n"
     ]
    },
    {
     "name": "stdout",
     "output_type": "stream",
     "text": [
      "INFO:tensorflow:Assets written to: D:\\df\\ai\\models\\yolo\\assets\n"
     ]
    },
    {
     "name": "stderr",
     "output_type": "stream",
     "text": [
      "INFO:tensorflow:Assets written to: D:\\df\\ai\\models\\yolo\\assets\n"
     ]
    },
    {
     "name": "stdout",
     "output_type": "stream",
     "text": [
      "378/378 [==============================] - 46s 121ms/step - loss: 3.6012 - CoordLoss: 0.3708 - ConfidenceLoss: 0.6583 - ClassLoss: 0.8622 - val_loss: 3.2875 - val_CoordLoss: 0.2889 - val_ConfidenceLoss: 0.6819 - val_ClassLoss: 0.9585 - lr: 1.0000e-05\n",
      "Epoch 18/500\n",
      "378/378 [==============================] - ETA: 0s - loss: 3.5963 - CoordLoss: 0.3708 - ConfidenceLoss: 0.6571 - ClassLoss: 0.8566\n",
      "Epoch 18: val_loss improved from 3.28752 to 3.27812, saving model to D:\\df\\ai\\models\\yolo\n"
     ]
    },
    {
     "name": "stderr",
     "output_type": "stream",
     "text": [
      "WARNING:absl:Found untraced functions such as _jit_compiled_convolution_op, _jit_compiled_convolution_op, _jit_compiled_convolution_op, _jit_compiled_convolution_op, _jit_compiled_convolution_op while saving (showing 5 of 52). These functions will not be directly callable after loading.\n"
     ]
    },
    {
     "name": "stdout",
     "output_type": "stream",
     "text": [
      "INFO:tensorflow:Assets written to: D:\\df\\ai\\models\\yolo\\assets\n"
     ]
    },
    {
     "name": "stderr",
     "output_type": "stream",
     "text": [
      "INFO:tensorflow:Assets written to: D:\\df\\ai\\models\\yolo\\assets\n"
     ]
    },
    {
     "name": "stdout",
     "output_type": "stream",
     "text": [
      "378/378 [==============================] - 45s 119ms/step - loss: 3.5963 - CoordLoss: 0.3708 - ConfidenceLoss: 0.6571 - ClassLoss: 0.8566 - val_loss: 3.2781 - val_CoordLoss: 0.2898 - val_ConfidenceLoss: 0.6769 - val_ClassLoss: 0.9506 - lr: 1.0000e-05\n",
      "Epoch 19/500\n",
      "378/378 [==============================] - ETA: 0s - loss: 3.5903 - CoordLoss: 0.3713 - ConfidenceLoss: 0.6536 - ClassLoss: 0.8533\n",
      "Epoch 19: val_loss did not improve from 3.27812\n",
      "378/378 [==============================] - 28s 72ms/step - loss: 3.5903 - CoordLoss: 0.3713 - ConfidenceLoss: 0.6536 - ClassLoss: 0.8533 - val_loss: 3.2798 - val_CoordLoss: 0.2862 - val_ConfidenceLoss: 0.6866 - val_ClassLoss: 0.9515 - lr: 1.0000e-05\n",
      "Epoch 20/500\n",
      "378/378 [==============================] - ETA: 0s - loss: 3.5854 - CoordLoss: 0.3712 - ConfidenceLoss: 0.6522 - ClassLoss: 0.8504\n",
      "Epoch 20: val_loss improved from 3.27812 to 3.27759, saving model to D:\\df\\ai\\models\\yolo\n"
     ]
    },
    {
     "name": "stderr",
     "output_type": "stream",
     "text": [
      "WARNING:absl:Found untraced functions such as _jit_compiled_convolution_op, _jit_compiled_convolution_op, _jit_compiled_convolution_op, _jit_compiled_convolution_op, _jit_compiled_convolution_op while saving (showing 5 of 52). These functions will not be directly callable after loading.\n"
     ]
    },
    {
     "name": "stdout",
     "output_type": "stream",
     "text": [
      "INFO:tensorflow:Assets written to: D:\\df\\ai\\models\\yolo\\assets\n"
     ]
    },
    {
     "name": "stderr",
     "output_type": "stream",
     "text": [
      "INFO:tensorflow:Assets written to: D:\\df\\ai\\models\\yolo\\assets\n"
     ]
    },
    {
     "name": "stdout",
     "output_type": "stream",
     "text": [
      "378/378 [==============================] - 45s 120ms/step - loss: 3.5854 - CoordLoss: 0.3712 - ConfidenceLoss: 0.6522 - ClassLoss: 0.8504 - val_loss: 3.2776 - val_CoordLoss: 0.2859 - val_ConfidenceLoss: 0.6872 - val_ClassLoss: 0.9473 - lr: 1.0000e-05\n",
      "Epoch 21/500\n",
      "378/378 [==============================] - ETA: 0s - loss: 3.5828 - CoordLoss: 0.3706 - ConfidenceLoss: 0.6530 - ClassLoss: 0.8482\n",
      "Epoch 21: val_loss did not improve from 3.27759\n",
      "378/378 [==============================] - 28s 74ms/step - loss: 3.5828 - CoordLoss: 0.3706 - ConfidenceLoss: 0.6530 - ClassLoss: 0.8482 - val_loss: 3.2800 - val_CoordLoss: 0.2836 - val_ConfidenceLoss: 0.6944 - val_ClassLoss: 0.9463 - lr: 1.0000e-05\n",
      "Epoch 22/500\n",
      "378/378 [==============================] - ETA: 0s - loss: 3.5795 - CoordLoss: 0.3703 - ConfidenceLoss: 0.6527 - ClassLoss: 0.8453\n",
      "Epoch 22: val_loss improved from 3.27759 to 3.27700, saving model to D:\\df\\ai\\models\\yolo\n"
     ]
    },
    {
     "name": "stderr",
     "output_type": "stream",
     "text": [
      "WARNING:absl:Found untraced functions such as _jit_compiled_convolution_op, _jit_compiled_convolution_op, _jit_compiled_convolution_op, _jit_compiled_convolution_op, _jit_compiled_convolution_op while saving (showing 5 of 52). These functions will not be directly callable after loading.\n"
     ]
    },
    {
     "name": "stdout",
     "output_type": "stream",
     "text": [
      "INFO:tensorflow:Assets written to: D:\\df\\ai\\models\\yolo\\assets\n"
     ]
    },
    {
     "name": "stderr",
     "output_type": "stream",
     "text": [
      "INFO:tensorflow:Assets written to: D:\\df\\ai\\models\\yolo\\assets\n"
     ]
    },
    {
     "name": "stdout",
     "output_type": "stream",
     "text": [
      "378/378 [==============================] - 45s 118ms/step - loss: 3.5795 - CoordLoss: 0.3703 - ConfidenceLoss: 0.6527 - ClassLoss: 0.8453 - val_loss: 3.2770 - val_CoordLoss: 0.2848 - val_ConfidenceLoss: 0.6898 - val_ClassLoss: 0.9467 - lr: 1.0000e-05\n",
      "Epoch 23/500\n",
      "378/378 [==============================] - ETA: 0s - loss: 3.5766 - CoordLoss: 0.3715 - ConfidenceLoss: 0.6492 - ClassLoss: 0.8416\n",
      "Epoch 23: val_loss did not improve from 3.27700\n",
      "378/378 [==============================] - 28s 72ms/step - loss: 3.5766 - CoordLoss: 0.3715 - ConfidenceLoss: 0.6492 - ClassLoss: 0.8416 - val_loss: 3.2813 - val_CoordLoss: 0.2833 - val_ConfidenceLoss: 0.6958 - val_ClassLoss: 0.9465 - lr: 1.0000e-05\n",
      "Epoch 24/500\n",
      "378/378 [==============================] - ETA: 0s - loss: 3.5749 - CoordLoss: 0.3710 - ConfidenceLoss: 0.6502 - ClassLoss: 0.8392\n",
      "Epoch 24: val_loss did not improve from 3.27700\n",
      "378/378 [==============================] - 28s 73ms/step - loss: 3.5749 - CoordLoss: 0.3710 - ConfidenceLoss: 0.6502 - ClassLoss: 0.8392 - val_loss: 3.2804 - val_CoordLoss: 0.2819 - val_ConfidenceLoss: 0.6993 - val_ClassLoss: 0.9446 - lr: 1.0000e-05\n",
      "Epoch 25/500\n",
      "378/378 [==============================] - ETA: 0s - loss: 3.5688 - CoordLoss: 0.3709 - ConfidenceLoss: 0.6487 - ClassLoss: 0.8341\n",
      "Epoch 25: val_loss did not improve from 3.27700\n",
      "378/378 [==============================] - 28s 73ms/step - loss: 3.5688 - CoordLoss: 0.3709 - ConfidenceLoss: 0.6487 - ClassLoss: 0.8341 - val_loss: 3.2808 - val_CoordLoss: 0.2817 - val_ConfidenceLoss: 0.7003 - val_ClassLoss: 0.9435 - lr: 1.0000e-05\n",
      "Epoch 26/500\n",
      "378/378 [==============================] - ETA: 0s - loss: 3.5670 - CoordLoss: 0.3714 - ConfidenceLoss: 0.6470 - ClassLoss: 0.8329\n",
      "Epoch 26: val_loss did not improve from 3.27700\n",
      "378/378 [==============================] - 28s 73ms/step - loss: 3.5670 - CoordLoss: 0.3714 - ConfidenceLoss: 0.6470 - ClassLoss: 0.8329 - val_loss: 3.2829 - val_CoordLoss: 0.2825 - val_ConfidenceLoss: 0.6992 - val_ClassLoss: 0.9436 - lr: 1.0000e-05\n",
      "Epoch 27/500\n",
      "378/378 [==============================] - ETA: 0s - loss: 3.5673 - CoordLoss: 0.3716 - ConfidenceLoss: 0.6470 - ClassLoss: 0.8312\n",
      "Epoch 27: val_loss did not improve from 3.27700\n",
      "\n",
      "Epoch 27: ReduceLROnPlateau reducing learning rate to 9.999999747378752e-07.\n",
      "378/378 [==============================] - 28s 73ms/step - loss: 3.5673 - CoordLoss: 0.3716 - ConfidenceLoss: 0.6470 - ClassLoss: 0.8312 - val_loss: 3.2830 - val_CoordLoss: 0.2834 - val_ConfidenceLoss: 0.6970 - val_ClassLoss: 0.9437 - lr: 1.0000e-05\n",
      "Epoch 28/500\n",
      "378/378 [==============================] - ETA: 0s - loss: 3.5655 - CoordLoss: 0.3719 - ConfidenceLoss: 0.6455 - ClassLoss: 0.8307\n",
      "Epoch 28: val_loss did not improve from 3.27700\n",
      "378/378 [==============================] - 28s 73ms/step - loss: 3.5655 - CoordLoss: 0.3719 - ConfidenceLoss: 0.6455 - ClassLoss: 0.8307 - val_loss: 3.2824 - val_CoordLoss: 0.2829 - val_ConfidenceLoss: 0.6982 - val_ClassLoss: 0.9427 - lr: 1.0000e-06\n",
      "Epoch 29/500\n",
      "378/378 [==============================] - ETA: 0s - loss: 3.5652 - CoordLoss: 0.3716 - ConfidenceLoss: 0.6462 - ClassLoss: 0.8302\n",
      "Epoch 29: val_loss did not improve from 3.27700\n",
      "378/378 [==============================] - 28s 73ms/step - loss: 3.5652 - CoordLoss: 0.3716 - ConfidenceLoss: 0.6462 - ClassLoss: 0.8302 - val_loss: 3.2821 - val_CoordLoss: 0.2828 - val_ConfidenceLoss: 0.6983 - val_ClassLoss: 0.9426 - lr: 1.0000e-06\n",
      "Epoch 30/500\n",
      "378/378 [==============================] - ETA: 0s - loss: 3.5639 - CoordLoss: 0.3710 - ConfidenceLoss: 0.6470 - ClassLoss: 0.8305\n",
      "Epoch 30: val_loss did not improve from 3.27700\n",
      "378/378 [==============================] - 28s 73ms/step - loss: 3.5639 - CoordLoss: 0.3710 - ConfidenceLoss: 0.6470 - ClassLoss: 0.8305 - val_loss: 3.2826 - val_CoordLoss: 0.2823 - val_ConfidenceLoss: 0.7000 - val_ClassLoss: 0.9427 - lr: 1.0000e-06\n",
      "Epoch 31/500\n",
      "378/378 [==============================] - ETA: 0s - loss: 3.5646 - CoordLoss: 0.3699 - ConfidenceLoss: 0.6501 - ClassLoss: 0.8305\n",
      "Epoch 31: val_loss did not improve from 3.27700\n",
      "378/378 [==============================] - 27s 73ms/step - loss: 3.5646 - CoordLoss: 0.3699 - ConfidenceLoss: 0.6501 - ClassLoss: 0.8305 - val_loss: 3.2824 - val_CoordLoss: 0.2826 - val_ConfidenceLoss: 0.6992 - val_ClassLoss: 0.9417 - lr: 1.0000e-06\n",
      "Epoch 32/500\n",
      "378/378 [==============================] - ETA: 0s - loss: 3.5628 - CoordLoss: 0.3709 - ConfidenceLoss: 0.6471 - ClassLoss: 0.8290\n",
      "Epoch 32: val_loss did not improve from 3.27700\n",
      "\n",
      "Epoch 32: ReduceLROnPlateau reducing learning rate to 1e-07.\n",
      "378/378 [==============================] - 27s 73ms/step - loss: 3.5628 - CoordLoss: 0.3709 - ConfidenceLoss: 0.6471 - ClassLoss: 0.8290 - val_loss: 3.2825 - val_CoordLoss: 0.2825 - val_ConfidenceLoss: 0.6993 - val_ClassLoss: 0.9425 - lr: 1.0000e-06\n",
      "Epoch 33/500\n",
      "378/378 [==============================] - ETA: 0s - loss: 3.5627 - CoordLoss: 0.3708 - ConfidenceLoss: 0.6470 - ClassLoss: 0.8296\n",
      "Epoch 33: val_loss did not improve from 3.27700\n",
      "378/378 [==============================] - 28s 73ms/step - loss: 3.5627 - CoordLoss: 0.3708 - ConfidenceLoss: 0.6470 - ClassLoss: 0.8296 - val_loss: 3.2826 - val_CoordLoss: 0.2824 - val_ConfidenceLoss: 0.6996 - val_ClassLoss: 0.9425 - lr: 1.0000e-07\n",
      "Epoch 34/500\n",
      "378/378 [==============================] - ETA: 0s - loss: 3.5635 - CoordLoss: 0.3717 - ConfidenceLoss: 0.6452 - ClassLoss: 0.8296\n",
      "Epoch 34: val_loss did not improve from 3.27700\n",
      "378/378 [==============================] - 27s 73ms/step - loss: 3.5635 - CoordLoss: 0.3717 - ConfidenceLoss: 0.6452 - ClassLoss: 0.8296 - val_loss: 3.2826 - val_CoordLoss: 0.2823 - val_ConfidenceLoss: 0.6999 - val_ClassLoss: 0.9425 - lr: 1.0000e-07\n",
      "Epoch 35/500\n",
      "378/378 [==============================] - ETA: 0s - loss: 3.5635 - CoordLoss: 0.3711 - ConfidenceLoss: 0.6464 - ClassLoss: 0.8303\n",
      "Epoch 35: val_loss did not improve from 3.27700\n",
      "378/378 [==============================] - 28s 73ms/step - loss: 3.5635 - CoordLoss: 0.3711 - ConfidenceLoss: 0.6464 - ClassLoss: 0.8303 - val_loss: 3.2827 - val_CoordLoss: 0.2823 - val_ConfidenceLoss: 0.7001 - val_ClassLoss: 0.9425 - lr: 1.0000e-07\n",
      "Epoch 36/500\n",
      "378/378 [==============================] - ETA: 0s - loss: 3.5632 - CoordLoss: 0.3720 - ConfidenceLoss: 0.6446 - ClassLoss: 0.8286\n",
      "Epoch 36: val_loss did not improve from 3.27700\n",
      "378/378 [==============================] - 28s 73ms/step - loss: 3.5632 - CoordLoss: 0.3720 - ConfidenceLoss: 0.6446 - ClassLoss: 0.8286 - val_loss: 3.2828 - val_CoordLoss: 0.2822 - val_ConfidenceLoss: 0.7003 - val_ClassLoss: 0.9426 - lr: 1.0000e-07\n",
      "Epoch 37/500\n",
      "378/378 [==============================] - ETA: 0s - loss: 3.5629 - CoordLoss: 0.3717 - ConfidenceLoss: 0.6455 - ClassLoss: 0.8279\n",
      "Epoch 37: val_loss did not improve from 3.27700\n",
      "378/378 [==============================] - 28s 73ms/step - loss: 3.5629 - CoordLoss: 0.3717 - ConfidenceLoss: 0.6455 - ClassLoss: 0.8279 - val_loss: 3.2829 - val_CoordLoss: 0.2821 - val_ConfidenceLoss: 0.7004 - val_ClassLoss: 0.9427 - lr: 1.0000e-07\n",
      "Epoch 38/500\n",
      "378/378 [==============================] - ETA: 0s - loss: 3.5632 - CoordLoss: 0.3714 - ConfidenceLoss: 0.6461 - ClassLoss: 0.8290\n",
      "Epoch 38: val_loss did not improve from 3.27700\n",
      "378/378 [==============================] - 28s 73ms/step - loss: 3.5632 - CoordLoss: 0.3714 - ConfidenceLoss: 0.6461 - ClassLoss: 0.8290 - val_loss: 3.2829 - val_CoordLoss: 0.2821 - val_ConfidenceLoss: 0.7005 - val_ClassLoss: 0.9427 - lr: 1.0000e-07\n",
      "Epoch 39/500\n",
      "378/378 [==============================] - ETA: 0s - loss: 3.5629 - CoordLoss: 0.3718 - ConfidenceLoss: 0.6445 - ClassLoss: 0.8301\n",
      "Epoch 39: val_loss did not improve from 3.27700\n",
      "378/378 [==============================] - 28s 73ms/step - loss: 3.5629 - CoordLoss: 0.3718 - ConfidenceLoss: 0.6445 - ClassLoss: 0.8301 - val_loss: 3.2828 - val_CoordLoss: 0.2821 - val_ConfidenceLoss: 0.7004 - val_ClassLoss: 0.9426 - lr: 1.0000e-07\n",
      "Epoch 40/500\n",
      "378/378 [==============================] - ETA: 0s - loss: 3.5639 - CoordLoss: 0.3713 - ConfidenceLoss: 0.6465 - ClassLoss: 0.8297\n",
      "Epoch 40: val_loss did not improve from 3.27700\n",
      "378/378 [==============================] - 27s 73ms/step - loss: 3.5639 - CoordLoss: 0.3713 - ConfidenceLoss: 0.6465 - ClassLoss: 0.8297 - val_loss: 3.2829 - val_CoordLoss: 0.2821 - val_ConfidenceLoss: 0.7006 - val_ClassLoss: 0.9427 - lr: 1.0000e-07\n",
      "Epoch 41/500\n",
      "378/378 [==============================] - ETA: 0s - loss: 3.5626 - CoordLoss: 0.3715 - ConfidenceLoss: 0.6455 - ClassLoss: 0.8290\n",
      "Epoch 41: val_loss did not improve from 3.27700\n",
      "378/378 [==============================] - 28s 73ms/step - loss: 3.5626 - CoordLoss: 0.3715 - ConfidenceLoss: 0.6455 - ClassLoss: 0.8290 - val_loss: 3.2829 - val_CoordLoss: 0.2820 - val_ConfidenceLoss: 0.7007 - val_ClassLoss: 0.9427 - lr: 1.0000e-07\n",
      "Epoch 42/500\n",
      "378/378 [==============================] - ETA: 0s - loss: 3.5618 - CoordLoss: 0.3709 - ConfidenceLoss: 0.6468 - ClassLoss: 0.8280\n",
      "Epoch 42: val_loss did not improve from 3.27700\n",
      "378/378 [==============================] - 28s 73ms/step - loss: 3.5618 - CoordLoss: 0.3709 - ConfidenceLoss: 0.6468 - ClassLoss: 0.8280 - val_loss: 3.2828 - val_CoordLoss: 0.2820 - val_ConfidenceLoss: 0.7009 - val_ClassLoss: 0.9427 - lr: 1.0000e-07\n"
     ]
    }
   ],
   "source": [
    "from keras.callbacks import ModelCheckpoint, CSVLogger, ReduceLROnPlateau, EarlyStopping, TensorBoard\n",
    "\n",
    "\n",
    "callbacks = [\n",
    "        ModelCheckpoint(\"D:\\\\df\\\\ai\\\\models\\\\yolo\", verbose=1, save_best_only=True),\n",
    "        ReduceLROnPlateau(monitor='val_loss', factor=0.1, patience=5, min_lr=1e-7, verbose=1),\n",
    "        EarlyStopping(monitor='val_loss', patience=20, restore_best_weights=False),\n",
    "        CSVLogger(\"history.csv\",)\n",
    "    ]\n",
    "\n",
    "history=model.fit(\n",
    "        ds_train,\n",
    "        epochs=N_EPOCHS,\n",
    "        validation_data=ds_val,\n",
    "        verbose=1,\n",
    "        callbacks=callbacks\n",
    "    )"
   ]
  }
 ],
 "metadata": {
  "kernelspec": {
   "display_name": "Python 3",
   "language": "python",
   "name": "python3"
  },
  "language_info": {
   "codemirror_mode": {
    "name": "ipython",
    "version": 3
   },
   "file_extension": ".py",
   "mimetype": "text/x-python",
   "name": "python",
   "nbconvert_exporter": "python",
   "pygments_lexer": "ipython3",
   "version": "3.9.7"
  },
  "orig_nbformat": 4
 },
 "nbformat": 4,
 "nbformat_minor": 2
}
